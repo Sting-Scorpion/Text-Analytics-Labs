{
 "cells": [
  {
   "cell_type": "markdown",
   "id": "a75ef551",
   "metadata": {},
   "source": [
    "# Text Analytics Data Loader"
   ]
  },
  {
   "cell_type": "code",
   "execution_count": 1,
   "id": "b7937549",
   "metadata": {},
   "outputs": [],
   "source": [
    "%load_ext autoreload\n",
    "%autoreload 2\n",
    "\n",
    "# Use HuggingFace's datasets library to access the financial_phrasebank dataset\n",
    "from datasets import load_dataset"
   ]
  },
  {
   "cell_type": "markdown",
   "id": "fd86eb82",
   "metadata": {},
   "source": [
    "# Task 1: Sentiment Classification\n",
    "\n",
    "## Amazon Reviews\n",
    "\n",
    "This dataset contains Amazon reviews in different languages along with their star ratings from 1 to 5. You can choose which language to work with. The code below passes the argument 'en' to load English reviews."
   ]
  },
  {
   "cell_type": "code",
   "execution_count": 2,
   "id": "c56eab56",
   "metadata": {
    "collapsed": true
   },
   "outputs": [
    {
     "name": "stderr",
     "output_type": "stream",
     "text": [
      "Reusing dataset amazon_reviews_multi (./data_cache\\amazon_reviews_multi\\en\\1.0.0\\724e94f4b0c6c405ce7e476a6c5ef4f87db30799ad49f765094cf9770e0f7609)\n"
     ]
    },
    {
     "data": {
      "application/vnd.jupyter.widget-view+json": {
       "model_id": "5c2fe811de0f4a70a96e1e119fa796d2",
       "version_major": 2,
       "version_minor": 0
      },
      "text/plain": [
       "  0%|          | 0/3 [00:00<?, ?it/s]"
      ]
     },
     "metadata": {},
     "output_type": "display_data"
    },
    {
     "name": "stdout",
     "output_type": "stream",
     "text": [
      "The dataset is a dictionary with two splits: \n",
      "\n",
      "DatasetDict({\n",
      "    train: Dataset({\n",
      "        features: ['review_id', 'product_id', 'reviewer_id', 'stars', 'review_body', 'review_title', 'language', 'product_category'],\n",
      "        num_rows: 200000\n",
      "    })\n",
      "    validation: Dataset({\n",
      "        features: ['review_id', 'product_id', 'reviewer_id', 'stars', 'review_body', 'review_title', 'language', 'product_category'],\n",
      "        num_rows: 5000\n",
      "    })\n",
      "    test: Dataset({\n",
      "        features: ['review_id', 'product_id', 'reviewer_id', 'stars', 'review_body', 'review_title', 'language', 'product_category'],\n",
      "        num_rows: 5000\n",
      "    })\n",
      "})\n"
     ]
    }
   ],
   "source": [
    "dataset = load_dataset(\n",
    "    \"amazon_reviews_multi\", \n",
    "    'en', # Select language of the dataset\n",
    "    cache_dir='./data_cache'\n",
    ")\n",
    "\n",
    "print(f'The dataset is a dictionary with two splits: \\n\\n{dataset}')"
   ]
  },
  {
   "cell_type": "markdown",
   "id": "60ba5e04",
   "metadata": {},
   "source": [
    "The dataset already contains a test split, which we can hold out until we have tuned our method(s), and a validation split (also called 'development' set or 'devset'), as well as the training split. \n",
    "\n",
    "The validation set can be used to compute performance of your model when tuning hyperparameters,  optimising combinations of features, or looking at the errors your model makes before improving it. This allows you to hold out the test set (i.e., not to look at examples from the test set while developing the model) to give a fair evaluation of the model and how well it generalises to new examples. This avoids tuning the model to specific examples in the test set.\n",
    "\n",
    "There are several approaches to validation: instead of using the presupplised validation set, you could use [cross validation](https://scikit-learn.org/stable/modules/cross_validation.html). \n",
    "\n",
    "The text below loads each of the splits into a set of documents and a set of corresponding review score labels. "
   ]
  },
  {
   "cell_type": "code",
   "execution_count": 3,
   "id": "1c774eb3",
   "metadata": {},
   "outputs": [
    {
     "name": "stdout",
     "output_type": "stream",
     "text": [
      "Example training document: Arrived broken. Manufacturer defect. Two of the legs of the base were not completely formed, so there was no way to insert the casters. I unpackaged the entire chair and hardware before noticing this. So, I'll spend twice the amount of time boxing up the whole useless thing and send it back with a 1-star review of part of a chair I never got to sit in. I will go so far as to include a picture of what their injection molding and quality assurance process missed though. I will be hesitant to buy again. It makes me wonder if there aren't missing structures and supports that don't impede the assembly process.\n",
      "Corresponding review score: 1\n",
      "Number of training instances: 200000\n",
      "Number of validation instances: 5000\n",
      "Number of test instances: 5000\n"
     ]
    }
   ],
   "source": [
    "train_documents = dataset[\"train\"]['review_body']\n",
    "print(f'Example training document: {train_documents[0]}')\n",
    "train_labels = dataset[\"train\"]['stars']\n",
    "print(f'Corresponding review score: {train_labels[0]}')\n",
    "print(f'Number of training instances: {len(train_documents)}')\n",
    "\n",
    "val_documents = dataset[\"validation\"]['review_body']\n",
    "print(f'Number of validation instances: {len(val_documents)}')\n",
    "val_labels = dataset[\"validation\"]['stars']\n",
    "\n",
    "test_documents = dataset[\"test\"]['review_body']\n",
    "print(f'Number of test instances: {len(test_documents)}')\n",
    "test_labels = dataset[\"test\"]['stars']"
   ]
  },
  {
   "cell_type": "markdown",
   "id": "bcf0dbde",
   "metadata": {},
   "source": [
    "The star ratings are our classes in this task:"
   ]
  },
  {
   "cell_type": "code",
   "execution_count": 4,
   "id": "6e0573c8",
   "metadata": {},
   "outputs": [
    {
     "name": "stdout",
     "output_type": "stream",
     "text": [
      "[1 2 3 4 5]\n"
     ]
    }
   ],
   "source": [
    "import numpy as np \n",
    "print(np.unique(train_labels))"
   ]
  },
  {
   "cell_type": "markdown",
   "id": "14f5aed5",
   "metadata": {},
   "source": [
    "The training set is very large, so you may wish to work with a subset of the training data by using the code below:"
   ]
  },
  {
   "cell_type": "code",
   "execution_count": 5,
   "id": "23a5b61d",
   "metadata": {},
   "outputs": [],
   "source": [
    "from sklearn.model_selection import train_test_split\n",
    "\n",
    "# Split test data from training data\n",
    "train_documents, unused_documents, train_labels, unused_labels = train_test_split(\n",
    "    train_documents, \n",
    "    train_labels, \n",
    "    test_size=0.9, \n",
    "    stratify=train_labels  # make sure the same proportion of labels is in the test set and training set\n",
    ")"
   ]
  },
  {
   "cell_type": "code",
   "execution_count": 6,
   "id": "b138052a",
   "metadata": {},
   "outputs": [
    {
     "name": "stdout",
     "output_type": "stream",
     "text": [
      "How many instances in the train dataset? \n",
      "\n",
      "20000\n",
      "\n",
      "What does one instance look like? \n",
      "\n",
      "Love the fragrance, but the bottle is shape makes it difficult to dispense. Shipped and described as advertised.\n"
     ]
    }
   ],
   "source": [
    "# label 0 = negative, 1 = neutral, 2 = positive\n",
    "print(f'How many instances in the train dataset? \\n\\n{len(train_documents)}')\n",
    "print('')\n",
    "print(f'What does one instance look like? \\n\\n{train_documents[234]}')"
   ]
  },
  {
   "cell_type": "markdown",
   "id": "d3912457",
   "metadata": {},
   "source": [
    "## Preparing Data\n",
    "\n",
    "This step is to tokenise the text of each document and convert it to a bag of words, ready for input to a classifier. To extract a bag of words, we can use the CountVectorizer class. This class outputs the bag of words as a feature vector, where the length of the vector is equal to the size of the vocabulary, and the values are the counts of each words in a document."
   ]
  },
  {
   "cell_type": "code",
   "execution_count": 7,
   "id": "658cedce",
   "metadata": {},
   "outputs": [
    {
     "name": "stderr",
     "output_type": "stream",
     "text": [
      "D:\\Download\\anaconda3\\envs\\data_analytics\\lib\\site-packages\\sklearn\\feature_extraction\\text.py:516: UserWarning: The parameter 'token_pattern' will not be used since 'tokenizer' is not None'\n",
      "  warnings.warn(\n"
     ]
    }
   ],
   "source": [
    "from sklearn.feature_extraction.text import CountVectorizer\n",
    "from nltk import word_tokenize\n",
    "\n",
    "# CountVectorizer can do its own tokenization, but for consistency we want to\n",
    "# carry on using WordNetTokenizer. We write a small wrapper class to enable this:\n",
    "class Tokenizer(object):\n",
    "    def __call__(self, docs):\n",
    "        return word_tokenize(docs)\n",
    "\n",
    "vectorizer = CountVectorizer(tokenizer=Tokenizer())  # construct the vectorizer\n",
    "\n",
    "vectorizer.fit(train_documents)  # Learn the vocabulary\n",
    "X_train = vectorizer.transform(train_documents)  # extract training set bags of words\n",
    "X_val = vectorizer.transform(val_documents)  # extract validation set bags of words\n",
    "X_test = vectorizer.transform(test_documents)  # extract test set bags of words"
   ]
  },
  {
   "cell_type": "markdown",
   "id": "589c0a14",
   "metadata": {},
   "source": [
    "## Naive Bayes Classifier\n",
    "\n",
    "For our bag of words data, we use the [MultinomialNB class](https://scikit-learn.org/stable/modules/generated/sklearn.naive_bayes.MultinomialNB.html#sklearn.naive_bayes.MultinomialNB)."
   ]
  },
  {
   "cell_type": "code",
   "execution_count": 8,
   "id": "adc868a7",
   "metadata": {},
   "outputs": [
    {
     "data": {
      "text/plain": [
       "MultinomialNB()"
      ]
     },
     "execution_count": 8,
     "metadata": {},
     "output_type": "execute_result"
    }
   ],
   "source": [
    "from sklearn.naive_bayes import MultinomialNB\n",
    "clf = MultinomialNB()\n",
    "clf.fit(X_train, train_labels)"
   ]
  },
  {
   "cell_type": "markdown",
   "id": "5fc65deb",
   "metadata": {},
   "source": [
    "Now we have a trained model, we would like to evaluate its performance on some test data.\n",
    "\n",
    "Predict the labels for the validation set. Use X_val as the inputs to the classifier."
   ]
  },
  {
   "cell_type": "code",
   "execution_count": 9,
   "id": "141f9be5",
   "metadata": {},
   "outputs": [],
   "source": [
    "val_pred = clf.predict(X_val)"
   ]
  },
  {
   "cell_type": "markdown",
   "id": "d758d22a",
   "metadata": {},
   "source": [
    "We can compute standard metrics for classifier performance using scikit-learn's metrics libary. A useful function for multi-class classification (when there are more than two classes) is the classification report function.\n",
    "\n",
    "Compute accuracy, precision, recall and F1 scores on the validation set."
   ]
  },
  {
   "cell_type": "code",
   "execution_count": 10,
   "id": "9e0c6d67",
   "metadata": {},
   "outputs": [
    {
     "name": "stdout",
     "output_type": "stream",
     "text": [
      "Accuracy = 0.4836\n",
      "Precision (macro average) = 0.48149950136807035\n",
      "Recall (macro average) = 0.48360000000000003\n",
      "F1 score (macro average) = 0.48176614091588926\n",
      "              precision    recall  f1-score   support\n",
      "\n",
      "           1       0.57      0.62      0.59      1000\n",
      "           2       0.38      0.38      0.38      1000\n",
      "           3       0.37      0.39      0.38      1000\n",
      "           4       0.43      0.37      0.40      1000\n",
      "           5       0.66      0.67      0.66      1000\n",
      "\n",
      "    accuracy                           0.48      5000\n",
      "   macro avg       0.48      0.48      0.48      5000\n",
      "weighted avg       0.48      0.48      0.48      5000\n",
      "\n"
     ]
    }
   ],
   "source": [
    "from sklearn.metrics import accuracy_score, precision_score, recall_score, f1_score, classification_report\n",
    "\n",
    "acc = accuracy_score(val_labels, val_pred)\n",
    "print(f'Accuracy = {acc}')\n",
    "\n",
    "prec = precision_score(val_labels, val_pred, average='macro')\n",
    "print(f'Precision (macro average) = {prec}')\n",
    "\n",
    "rec = recall_score(val_labels, val_pred, average='macro')\n",
    "print(f'Recall (macro average) = {rec}')\n",
    "\n",
    "f1 = f1_score(val_labels, val_pred, average='macro')\n",
    "print(f'F1 score (macro average) = {f1}')\n",
    "\n",
    "print(classification_report(val_labels, val_pred))"
   ]
  },
  {
   "cell_type": "markdown",
   "id": "773c1800",
   "metadata": {},
   "source": [
    "## Lemmatization\n",
    "\n",
    "Lemmatization is useful for reducing the size of the vocabulary.\n",
    "\n",
    "To apply lemmatization, we have to go back to the CountVectorizer and define a new tokenizer that will carry out the extra step of lemmatization."
   ]
  },
  {
   "cell_type": "code",
   "execution_count": 11,
   "id": "6d1e6569",
   "metadata": {},
   "outputs": [
    {
     "name": "stderr",
     "output_type": "stream",
     "text": [
      "D:\\Download\\anaconda3\\envs\\data_analytics\\lib\\site-packages\\sklearn\\feature_extraction\\text.py:516: UserWarning: The parameter 'token_pattern' will not be used since 'tokenizer' is not None'\n",
      "  warnings.warn(\n"
     ]
    }
   ],
   "source": [
    "from nltk.stem import WordNetLemmatizer \n",
    "\n",
    "class LemmaTokenizer(object):\n",
    "    \n",
    "    def __init__(self):\n",
    "        self.wnl = WordNetLemmatizer()\n",
    "        \n",
    "    def __call__(self, tweets):\n",
    "        return [self.wnl.lemmatize(self.wnl.lemmatize(self.wnl.lemmatize(tok, pos='n'), pos='v'), pos='a') for tok in word_tokenize(tweets)]\n",
    "    \n",
    "vectorizer2 = CountVectorizer(tokenizer=LemmaTokenizer())\n",
    "\n",
    "vectorizer2.fit(train_documents)\n",
    "Xtrain = vectorizer2.transform(train_documents)\n",
    "Xval = vectorizer2.transform(val_documents)\n",
    "Xtest = vectorizer2.transform(test_documents)"
   ]
  },
  {
   "cell_type": "code",
   "execution_count": 61,
   "id": "a39560e4",
   "metadata": {},
   "outputs": [
    {
     "data": {
      "text/plain": [
       "'Just as described, works fine.Its not as good as my old shark, maybe the smaller cleaning surface is the problem. I had very high expectations for this steamer. Light weight, good cleaning capabilities, leaves surfaces fresh and hygienic, lots of accessories. Leaks water if you stay still for more than a few seconds, even in low settings, so you need to move fast.'"
      ]
     },
     "execution_count": 61,
     "metadata": {},
     "output_type": "execute_result"
    }
   ],
   "source": [
    "train_documents[0]"
   ]
  },
  {
   "cell_type": "code",
   "execution_count": 12,
   "id": "7ae69e03",
   "metadata": {},
   "outputs": [],
   "source": [
    "clf.fit(Xtrain, train_labels)\n",
    "valpred = clf.predict(Xval)"
   ]
  },
  {
   "cell_type": "code",
   "execution_count": 13,
   "id": "940ca7b7",
   "metadata": {},
   "outputs": [
    {
     "name": "stdout",
     "output_type": "stream",
     "text": [
      "Accuracy = 0.4726\n",
      "Precision (macro average) = 0.4701215045659038\n",
      "Recall (macro average) = 0.4726\n",
      "F1 score (macro average) = 0.47057475617585565\n",
      "              precision    recall  f1-score   support\n",
      "\n",
      "           1       0.56      0.60      0.58      1000\n",
      "           2       0.36      0.36      0.36      1000\n",
      "           3       0.35      0.37      0.36      1000\n",
      "           4       0.43      0.36      0.39      1000\n",
      "           5       0.65      0.67      0.66      1000\n",
      "\n",
      "    accuracy                           0.47      5000\n",
      "   macro avg       0.47      0.47      0.47      5000\n",
      "weighted avg       0.47      0.47      0.47      5000\n",
      "\n"
     ]
    }
   ],
   "source": [
    "acc = accuracy_score(val_labels, valpred)\n",
    "print(f'Accuracy = {acc}')\n",
    "\n",
    "prec = precision_score(val_labels, valpred, average='macro')\n",
    "print(f'Precision (macro average) = {prec}')\n",
    "\n",
    "rec = recall_score(val_labels, valpred, average='macro')\n",
    "print(f'Recall (macro average) = {rec}')\n",
    "\n",
    "f1 = f1_score(val_labels, valpred, average='macro')\n",
    "print(f'F1 score (macro average) = {f1}')\n",
    "\n",
    "print(classification_report(val_labels, valpred))"
   ]
  },
  {
   "cell_type": "markdown",
   "id": "b8453732",
   "metadata": {},
   "source": [
    "## N-grams\n",
    "\n",
    "The bag of words is a very simple representation of the tweets that does not capture enough information to make accurate sentiment classifications. Another way to improve it could be to use bigrams instead of single words as our features. Bigrams are pairs of words that occur one after another in the text. Bigrams are a kind of 'n-gram', where 'n=2'.\n",
    "\n",
    "To extract bigrams, we again modify our CountVectorizer. This class has a parameter `ngram_range`, which determines the range of sizes of n-grams the vectorizer will include. If we set `ngram_range=(1,1)` we have our standard bag of words. If we set it to `ngram_range=(2,2)`, we use bigrams instead. Choosing If we set `ngram_range=(1,2)` will use both single tokens (unigrams) and bigrams."
   ]
  },
  {
   "cell_type": "code",
   "execution_count": 14,
   "id": "d2afcfb4",
   "metadata": {},
   "outputs": [
    {
     "name": "stderr",
     "output_type": "stream",
     "text": [
      "D:\\Download\\anaconda3\\envs\\data_analytics\\lib\\site-packages\\sklearn\\feature_extraction\\text.py:516: UserWarning: The parameter 'token_pattern' will not be used since 'tokenizer' is not None'\n",
      "  warnings.warn(\n"
     ]
    }
   ],
   "source": [
    "vectorizer3 = CountVectorizer(tokenizer=LemmaTokenizer(), ngram_range=(2,2))\n",
    "\n",
    "vectorizer3.fit(train_documents)\n",
    "Xtrain = vectorizer3.transform(train_documents)\n",
    "Xval = vectorizer3.transform(val_documents)\n",
    "Xtest = vectorizer3.transform(test_documents)"
   ]
  },
  {
   "cell_type": "code",
   "execution_count": 15,
   "id": "dc7ed37d",
   "metadata": {},
   "outputs": [],
   "source": [
    "clf.fit(Xtrain, train_labels)\n",
    "valpred = clf.predict(Xval)"
   ]
  },
  {
   "cell_type": "code",
   "execution_count": 16,
   "id": "efac0b4f",
   "metadata": {},
   "outputs": [
    {
     "name": "stdout",
     "output_type": "stream",
     "text": [
      "Accuracy = 0.4844\n",
      "Precision (macro average) = 0.496537492579941\n",
      "Recall (macro average) = 0.48439999999999994\n",
      "F1 score (macro average) = 0.48905701530690954\n",
      "              precision    recall  f1-score   support\n",
      "\n",
      "           1       0.60      0.58      0.59      1000\n",
      "           2       0.36      0.42      0.39      1000\n",
      "           3       0.36      0.39      0.37      1000\n",
      "           4       0.45      0.41      0.43      1000\n",
      "           5       0.71      0.61      0.66      1000\n",
      "\n",
      "    accuracy                           0.48      5000\n",
      "   macro avg       0.50      0.48      0.49      5000\n",
      "weighted avg       0.50      0.48      0.49      5000\n",
      "\n"
     ]
    }
   ],
   "source": [
    "acc = accuracy_score(val_labels, valpred)\n",
    "print(f'Accuracy = {acc}')\n",
    "\n",
    "prec = precision_score(val_labels, valpred, average='macro')\n",
    "print(f'Precision (macro average) = {prec}')\n",
    "\n",
    "rec = recall_score(val_labels, valpred, average='macro')\n",
    "print(f'Recall (macro average) = {rec}')\n",
    "\n",
    "f1 = f1_score(val_labels, valpred, average='macro')\n",
    "print(f'F1 score (macro average) = {f1}')\n",
    "\n",
    "print(classification_report(val_labels, valpred))"
   ]
  },
  {
   "cell_type": "markdown",
   "id": "8bf5e4cc",
   "metadata": {},
   "source": [
    "## Test the model on testset"
   ]
  },
  {
   "cell_type": "code",
   "execution_count": 17,
   "id": "98144d09",
   "metadata": {},
   "outputs": [
    {
     "name": "stdout",
     "output_type": "stream",
     "text": [
      "Accuracy = 0.4822\n",
      "Precision (macro average) = 0.49324143420067734\n",
      "Recall (macro average) = 0.4821999999999999\n",
      "F1 score (macro average) = 0.4859905380884406\n",
      "              precision    recall  f1-score   support\n",
      "\n",
      "           1       0.58      0.61      0.59      1000\n",
      "           2       0.37      0.42      0.40      1000\n",
      "           3       0.36      0.38      0.37      1000\n",
      "           4       0.45      0.42      0.44      1000\n",
      "           5       0.70      0.58      0.63      1000\n",
      "\n",
      "    accuracy                           0.48      5000\n",
      "   macro avg       0.49      0.48      0.49      5000\n",
      "weighted avg       0.49      0.48      0.49      5000\n",
      "\n"
     ]
    }
   ],
   "source": [
    "Ypred = clf.predict(Xtest)\n",
    "\n",
    "acc = accuracy_score(test_labels, Ypred)\n",
    "print(f'Accuracy = {acc}')\n",
    "\n",
    "prec = precision_score(test_labels, Ypred, average='macro')\n",
    "print(f'Precision (macro average) = {prec}')\n",
    "\n",
    "rec = recall_score(test_labels, Ypred, average='macro')\n",
    "print(f'Recall (macro average) = {rec}')\n",
    "\n",
    "f1 = f1_score(test_labels, Ypred, average='macro')\n",
    "print(f'F1 score (macro average) = {f1}')\n",
    "\n",
    "print(classification_report(test_labels, Ypred))"
   ]
  },
  {
   "cell_type": "markdown",
   "id": "2b4f36e4",
   "metadata": {},
   "source": [
    "## Latent Dirichlet Allocation (LDA)"
   ]
  },
  {
   "cell_type": "markdown",
   "id": "98ffcd10",
   "metadata": {},
   "source": [
    "### data preprocessing\n",
    "\n",
    "To apply topic modelling, we need to first preprocess the data. We will carry out the following steps using the same approach as previous labs:\n",
    "* Tokenise the posts using NLTK's word_tokenize() function\n",
    "* Remove non-word tokens and tokens with length less than 3 (likely to be numbers and punctuation that are not related to specific topics) and longer than 15 (probably URLs, codes, andbadly formatted tokens rather than proper words)\n",
    "* Convert the tokens to lower case\n",
    "* Remove stopwords: we have not used this step before; it removes tokens such as 'the' and 'a' that appear in a list of very common words, because these words do not tell us much about topics\n",
    "* Lemmatize the tokens using WordNetLemmatizer to convert verbs to their root forms"
   ]
  },
  {
   "cell_type": "code",
   "execution_count": 41,
   "id": "6fd20ae1",
   "metadata": {},
   "outputs": [],
   "source": [
    "from gensim.utils import simple_preprocess\n",
    "from gensim.parsing.preprocessing import STOPWORDS # find stopwords\n",
    "\n",
    "# Tokenize and lemmatize\n",
    "def preprocess(text):\n",
    "    result=[]\n",
    "    # Tokenize, remove very short and very long words, convert to lower case, remove words containing non-letter characters\n",
    "    for token in simple_preprocess(text) : \n",
    "        if token not in STOPWORDS:\n",
    "            result.append(WordNetLemmatizer().lemmatize(token, 'v'))\n",
    "            \n",
    "    return result"
   ]
  },
  {
   "cell_type": "code",
   "execution_count": 65,
   "id": "84d2b4c9",
   "metadata": {},
   "outputs": [],
   "source": [
    "# Create a list of preprocessed documents\n",
    "processed = []\n",
    "for i, doc in enumerate(train_documents):\n",
    "    if train_labels[i] == 1 or train_labels[i] == 5:\n",
    "        processed.append(preprocess(doc))"
   ]
  },
  {
   "cell_type": "code",
   "execution_count": 48,
   "id": "ead290b6",
   "metadata": {},
   "outputs": [],
   "source": [
    "from gensim.corpora import Dictionary\n",
    "\n",
    "dictionary = Dictionary(processed) # construct word<->id mappings - it does it in alphabetical order\n",
    "\n",
    "bow_corpus = [dictionary.doc2bow(doc) for doc in processed]"
   ]
  },
  {
   "cell_type": "markdown",
   "id": "4c071915",
   "metadata": {},
   "source": [
    "We are going to try 20 topics in the document corpus. "
   ]
  },
  {
   "cell_type": "code",
   "execution_count": 49,
   "id": "b9b87759",
   "metadata": {},
   "outputs": [],
   "source": [
    "from gensim.models import LdaModel\n",
    "\n",
    "lda_model =  LdaModel(bow_corpus, \n",
    "                      num_topics=20, \n",
    "                      id2word=dictionary,                                    \n",
    "                      passes=10,\n",
    "                    ) "
   ]
  },
  {
   "cell_type": "code",
   "execution_count": 50,
   "id": "9f0c91a4",
   "metadata": {
    "collapsed": true
   },
   "outputs": [
    {
     "name": "stdout",
     "output_type": "stream",
     "text": [
      "Topic: 0 \n",
      "Words: 0.054*\"love\" + 0.043*\"picture\" + 0.031*\"gift\" + 0.022*\"son\" + 0.021*\"order\" + 0.021*\"daughter\" + 0.019*\"buy\" + 0.019*\"beautiful\" + 0.018*\"year\" + 0.017*\"get\"\n",
      "\n",
      "\n",
      "Topic: 1 \n",
      "Words: 0.030*\"pair\" + 0.027*\"cheap\" + 0.022*\"shoe\" + 0.016*\"ear\" + 0.015*\"hole\" + 0.015*\"smaller\" + 0.012*\"feet\" + 0.012*\"better\" + 0.012*\"plastic\" + 0.012*\"part\"\n",
      "\n",
      "\n",
      "Topic: 2 \n",
      "Words: 0.027*\"love\" + 0.024*\"purchase\" + 0.024*\"use\" + 0.022*\"happy\" + 0.021*\"color\" + 0.021*\"product\" + 0.021*\"hair\" + 0.020*\"wash\" + 0.018*\"like\" + 0.015*\"smell\"\n",
      "\n",
      "\n",
      "Topic: 3 \n",
      "Words: 0.043*\"charge\" + 0.032*\"buy\" + 0.031*\"time\" + 0.026*\"battery\" + 0.025*\"work\" + 0.022*\"turn\" + 0.022*\"days\" + 0.022*\"months\" + 0.017*\"return\" + 0.016*\"start\"\n",
      "\n",
      "\n",
      "Topic: 4 \n",
      "Words: 0.066*\"good\" + 0.050*\"case\" + 0.046*\"price\" + 0.046*\"great\" + 0.045*\"quality\" + 0.039*\"phone\" + 0.025*\"screen\" + 0.020*\"product\" + 0.020*\"fit\" + 0.019*\"look\"\n",
      "\n",
      "\n",
      "Topic: 5 \n",
      "Words: 0.042*\"sound\" + 0.028*\"quality\" + 0.020*\"play\" + 0.017*\"phone\" + 0.017*\"great\" + 0.016*\"poor\" + 0.015*\"game\" + 0.015*\"work\" + 0.014*\"like\" + 0.012*\"headphones\"\n",
      "\n",
      "\n",
      "Topic: 6 \n",
      "Words: 0.049*\"product\" + 0.041*\"arrive\" + 0.034*\"break\" + 0.025*\"ship\" + 0.021*\"company\" + 0.021*\"amazon\" + 0.021*\"service\" + 0.021*\"say\" + 0.020*\"come\" + 0.019*\"fast\"\n",
      "\n",
      "\n",
      "Topic: 7 \n",
      "Words: 0.032*\"cable\" + 0.027*\"work\" + 0.019*\"light\" + 0.019*\"power\" + 0.015*\"car\" + 0.013*\"week\" + 0.013*\"instal\" + 0.013*\"band\" + 0.012*\"get\" + 0.011*\"arm\"\n",
      "\n",
      "\n",
      "Topic: 8 \n",
      "Words: 0.080*\"easy\" + 0.036*\"use\" + 0.028*\"clean\" + 0.024*\"cover\" + 0.022*\"install\" + 0.020*\"great\" + 0.017*\"glass\" + 0.016*\"work\" + 0.016*\"tool\" + 0.015*\"job\"\n",
      "\n",
      "\n",
      "Topic: 9 \n",
      "Words: 0.035*\"use\" + 0.019*\"work\" + 0.014*\"time\" + 0.014*\"product\" + 0.012*\"come\" + 0.012*\"need\" + 0.011*\"best\" + 0.011*\"instructions\" + 0.010*\"usb\" + 0.010*\"easy\"\n",
      "\n",
      "\n",
      "Topic: 10 \n",
      "Words: 0.064*\"money\" + 0.041*\"waste\" + 0.035*\"product\" + 0.030*\"buy\" + 0.026*\"time\" + 0.023*\"star\" + 0.017*\"like\" + 0.016*\"review\" + 0.015*\"try\" + 0.014*\"taste\"\n",
      "\n",
      "\n",
      "Topic: 11 \n",
      "Words: 0.024*\"day\" + 0.024*\"ve\" + 0.022*\"like\" + 0.018*\"help\" + 0.017*\"try\" + 0.016*\"water\" + 0.014*\"wear\" + 0.014*\"take\" + 0.014*\"get\" + 0.013*\"hot\"\n",
      "\n",
      "\n",
      "Topic: 12 \n",
      "Words: 0.064*\"order\" + 0.058*\"receive\" + 0.055*\"item\" + 0.054*\"return\" + 0.044*\"send\" + 0.036*\"seller\" + 0.028*\"amazon\" + 0.021*\"get\" + 0.020*\"box\" + 0.020*\"refund\"\n",
      "\n",
      "\n",
      "Topic: 13 \n",
      "Words: 0.059*\"fit\" + 0.042*\"perfect\" + 0.031*\"great\" + 0.028*\"love\" + 0.026*\"bag\" + 0.024*\"look\" + 0.022*\"size\" + 0.018*\"cute\" + 0.018*\"super\" + 0.018*\"small\"\n",
      "\n",
      "\n",
      "Topic: 14 \n",
      "Words: 0.038*\"light\" + 0.022*\"dry\" + 0.020*\"bottle\" + 0.015*\"feel\" + 0.015*\"like\" + 0.014*\"bright\" + 0.014*\"great\" + 0.013*\"oil\" + 0.012*\"room\" + 0.011*\"nice\"\n",
      "\n",
      "\n",
      "Topic: 15 \n",
      "Words: 0.042*\"like\" + 0.020*\"look\" + 0.020*\"watch\" + 0.015*\"baby\" + 0.014*\"handle\" + 0.013*\"buy\" + 0.013*\"bed\" + 0.012*\"problem\" + 0.011*\"sleep\" + 0.011*\"stand\"\n",
      "\n",
      "\n",
      "Topic: 16 \n",
      "Words: 0.056*\"book\" + 0.036*\"read\" + 0.034*\"size\" + 0.031*\"love\" + 0.015*\"order\" + 0.014*\"wear\" + 0.014*\"comfortable\" + 0.013*\"like\" + 0.013*\"great\" + 0.012*\"enjoy\"\n",
      "\n",
      "\n",
      "Topic: 17 \n",
      "Words: 0.037*\"recommend\" + 0.032*\"exactly\" + 0.023*\"highly\" + 0.021*\"quality\" + 0.021*\"love\" + 0.018*\"describe\" + 0.015*\"fall\" + 0.015*\"look\" + 0.014*\"buy\" + 0.014*\"product\"\n",
      "\n",
      "\n",
      "Topic: 18 \n",
      "Words: 0.247*\"work\" + 0.051*\"great\" + 0.050*\"stop\" + 0.020*\"product\" + 0.020*\"months\" + 0.015*\"go\" + 0.014*\"month\" + 0.014*\"buy\" + 0.010*\"light\" + 0.010*\"plug\"\n",
      "\n",
      "\n",
      "Topic: 19 \n",
      "Words: 0.024*\"open\" + 0.019*\"dog\" + 0.017*\"try\" + 0.016*\"miss\" + 0.015*\"disappoint\" + 0.015*\"stick\" + 0.015*\"leak\" + 0.014*\"break\" + 0.013*\"review\" + 0.012*\"box\"\n",
      "\n",
      "\n"
     ]
    }
   ],
   "source": [
    "'''\n",
    "For each topic, we will explore the words occuring in that topic and its relative weight\n",
    "'''\n",
    "for idx, topic in lda_model.print_topics(-1):\n",
    "    print(\"Topic: {} \\nWords: {}\".format(idx, topic ))\n",
    "    print(\"\\n\")"
   ]
  },
  {
   "cell_type": "markdown",
   "id": "512b2de2",
   "metadata": {},
   "source": [
    "## Hierarchical Dirichlet Process (HDP)\n",
    "\n",
    "Instead of passing in a fixed number of topics, HDP will try to learn a good number of topics to fit the data."
   ]
  },
  {
   "cell_type": "code",
   "execution_count": 67,
   "id": "7259cdbb",
   "metadata": {
    "collapsed": true
   },
   "outputs": [
    {
     "name": "stdout",
     "output_type": "stream",
     "text": [
      "Topic: 0 \n",
      "Words: 0.008*work + 0.006*like + 0.006*great + 0.006*product + 0.006*buy + 0.005*time + 0.005*use + 0.005*good + 0.004*look + 0.004*love\n",
      "\n",
      "\n",
      "Topic: 1 \n",
      "Words: 0.006*like + 0.005*work + 0.005*buy + 0.004*product + 0.004*use + 0.004*love + 0.004*great + 0.004*look + 0.004*time + 0.003*good\n",
      "\n",
      "\n",
      "Topic: 2 \n",
      "Words: 0.002*product + 0.002*work + 0.002*like + 0.002*buy + 0.002*great + 0.002*come + 0.002*screen + 0.001*look + 0.001*love + 0.001*read\n",
      "\n",
      "\n",
      "Topic: 3 \n",
      "Words: 0.003*work + 0.002*buy + 0.002*time + 0.002*like + 0.002*product + 0.002*great + 0.002*use + 0.002*get + 0.002*love + 0.001*bag\n",
      "\n",
      "\n",
      "Topic: 4 \n",
      "Words: 0.003*like + 0.003*work + 0.002*time + 0.002*use + 0.002*buy + 0.002*good + 0.002*great + 0.002*easy + 0.002*product + 0.002*get\n",
      "\n",
      "\n",
      "Topic: 5 \n",
      "Words: 0.003*work + 0.002*product + 0.002*like + 0.002*great + 0.002*love + 0.002*buy + 0.002*use + 0.002*order + 0.001*fit + 0.001*need\n",
      "\n",
      "\n",
      "Topic: 6 \n",
      "Words: 0.002*work + 0.001*product + 0.001*like + 0.001*great + 0.001*time + 0.001*nordstrom + 0.001*buy + 0.001*need + 0.001*love + 0.001*ford\n",
      "\n",
      "\n",
      "Topic: 7 \n",
      "Words: 0.002*work + 0.001*product + 0.001*buy + 0.001*great + 0.001*good + 0.001*love + 0.001*like + 0.001*think + 0.001*seller + 0.001*easy\n",
      "\n",
      "\n",
      "Topic: 8 \n",
      "Words: 0.001*great + 0.001*product + 0.001*use + 0.001*work + 0.001*like + 0.001*look + 0.001*good + 0.001*vinyl + 0.001*buy + 0.001*box\n",
      "\n",
      "\n",
      "Topic: 9 \n",
      "Words: 0.002*good + 0.001*use + 0.001*work + 0.001*product + 0.001*like + 0.001*buy + 0.001*love + 0.001*look + 0.001*fund + 0.001*great\n",
      "\n",
      "\n",
      "Topic: 10 \n",
      "Words: 0.002*work + 0.002*buy + 0.001*love + 0.001*like + 0.001*great + 0.001*use + 0.001*product + 0.001*specifically + 0.001*spong + 0.001*easy\n",
      "\n",
      "\n",
      "Topic: 11 \n",
      "Words: 0.002*work + 0.002*try + 0.001*seat + 0.001*time + 0.001*cleaner + 0.001*instal + 0.001*use + 0.001*cr + 0.001*product + 0.001*entertainment\n",
      "\n",
      "\n",
      "Topic: 12 \n",
      "Words: 0.002*product + 0.002*like + 0.001*work + 0.001*buy + 0.001*try + 0.001*use + 0.001*wipe + 0.001*time + 0.001*halogen + 0.001*great\n",
      "\n",
      "\n",
      "Topic: 13 \n",
      "Words: 0.001*like + 0.001*great + 0.001*use + 0.001*work + 0.001*hurrah + 0.001*tingly + 0.001*product + 0.001*porous + 0.001*brass + 0.001*buy\n",
      "\n",
      "\n",
      "Topic: 14 \n",
      "Words: 0.001*great + 0.001*work + 0.001*product + 0.001*use + 0.001*porch + 0.001*like + 0.001*pizza + 0.001*sprout + 0.001*shatter + 0.001*blow\n",
      "\n",
      "\n",
      "Topic: 15 \n",
      "Words: 0.002*work + 0.001*product + 0.001*time + 0.001*great + 0.001*like + 0.001*rewind + 0.001*softballs + 0.001*coffee + 0.001*charge + 0.001*nozzles\n",
      "\n",
      "\n",
      "Topic: 16 \n",
      "Words: 0.001*work + 0.001*buy + 0.001*like + 0.001*use + 0.001*pi + 0.001*laptops + 0.001*return + 0.001*dept + 0.001*great + 0.001*lubricant\n",
      "\n",
      "\n",
      "Topic: 17 \n",
      "Words: 0.002*work + 0.001*great + 0.001*product + 0.001*book + 0.001*cleanup + 0.001*glance + 0.001*staple + 0.001*buy + 0.001*like + 0.001*ace\n",
      "\n",
      "\n",
      "Topic: 18 \n",
      "Words: 0.002*work + 0.002*move + 0.002*great + 0.001*love + 0.001*like + 0.001*need + 0.001*product + 0.001*cruel + 0.001*use + 0.001*buy\n",
      "\n",
      "\n",
      "Topic: 19 \n",
      "Words: 0.001*product + 0.001*headband + 0.001*time + 0.001*work + 0.001*run + 0.001*buy + 0.001*like + 0.001*disposable + 0.001*exersaucer + 0.001*lotion\n",
      "\n",
      "\n"
     ]
    }
   ],
   "source": [
    "from gensim.models import HdpModel\n",
    "\n",
    "hdp_model = HdpModel(bow_corpus, \n",
    "                     dictionary,\n",
    "                     alpha=0.01,\n",
    "                     gamma=0.01)\n",
    "\n",
    "# print the word-topic distributions for \n",
    "for idx, topic in hdp_model.print_topics(20):\n",
    "    print(\"Topic: {} \\nWords: {}\".format(idx, topic ))\n",
    "    print(\"\\n\")"
   ]
  },
  {
   "cell_type": "markdown",
   "id": "9b16624b",
   "metadata": {},
   "source": [
    "The previous cell shows the first 20 topics. HDP learns the number of topics that are needed to model the dataset. It produces a global distribution over the topics. Topics with very low probability can be considered inactive:"
   ]
  },
  {
   "cell_type": "code",
   "execution_count": 69,
   "id": "25342e2c",
   "metadata": {},
   "outputs": [
    {
     "data": {
      "image/png": "[encoded data removed]",
      "text/plain": [
       "<Figure size 640x480 with 1 Axes>"
      ]
     },
     "metadata": {},
     "output_type": "display_data"
    }
   ],
   "source": [
    "import matplotlib.pyplot as plt\n",
    "\n",
    "def plot_global_topic_weights(hdp_model):\n",
    "    global_topic_weights = hdp_model.m_varphi_ss / np.sum(hdp_model.m_varphi_ss)\n",
    "\n",
    "    plt.bar(np.arange(len(global_topic_weights)), global_topic_weights)\n",
    "    plt.ylabel('Probability')\n",
    "    plt.xlabel('Topic ID')\n",
    "    \n",
    "plot_global_topic_weights(hdp_model)"
   ]
  },
  {
   "cell_type": "markdown",
   "id": "42104d61",
   "metadata": {},
   "source": [
    "# Task 2: Named Entity Recognition\n",
    "\n",
    "## Bio Creative V\n",
    "\n",
    "This dataset contains sentences extracted from scientific articles on PubMed. The sentences are annotated with two types of entities, chemicals and diseases. Let's load the data:"
   ]
  },
  {
   "cell_type": "code",
   "execution_count": 18,
   "id": "4a6f3b8c",
   "metadata": {},
   "outputs": [
    {
     "name": "stderr",
     "output_type": "stream",
     "text": [
      "Reusing dataset bc5_cdr (./data_cache\\tner___bc5_cdr\\bc5cdr\\1.0.0\\66ea1a8c1cb0adcf8751ab7993f5d31717f21c2a9b89e21506fe959d904a7bf6)\n"
     ]
    },
    {
     "data": {
      "application/vnd.jupyter.widget-view+json": {
       "model_id": "317a29f945db4db5a2f2f6402aebc87c",
       "version_major": 2,
       "version_minor": 0
      },
      "text/plain": [
       "  0%|          | 0/3 [00:00<?, ?it/s]"
      ]
     },
     "metadata": {},
     "output_type": "display_data"
    },
    {
     "name": "stdout",
     "output_type": "stream",
     "text": [
      "The dataset is a dictionary with 3 splits: \n",
      "\n",
      "DatasetDict({\n",
      "    train: Dataset({\n",
      "        features: ['tokens', 'tags'],\n",
      "        num_rows: 5228\n",
      "    })\n",
      "    validation: Dataset({\n",
      "        features: ['tokens', 'tags'],\n",
      "        num_rows: 5330\n",
      "    })\n",
      "    test: Dataset({\n",
      "        features: ['tokens', 'tags'],\n",
      "        num_rows: 5865\n",
      "    })\n",
      "})\n"
     ]
    }
   ],
   "source": [
    "dataset = load_dataset(\n",
    "    \"tner/bc5cdr\", \n",
    "    cache_dir='./data_cache'\n",
    ")\n",
    "\n",
    "print(f'The dataset is a dictionary with {len(dataset)} splits: \\n\\n{dataset}')"
   ]
  },
  {
   "cell_type": "markdown",
   "id": "a277de11",
   "metadata": {},
   "source": [
    "The data is also split into train, validation and test. It may be convenient to reformat these splits into lists of tokens and lists of tags:"
   ]
  },
  {
   "cell_type": "code",
   "execution_count": 19,
   "id": "3f915017",
   "metadata": {},
   "outputs": [],
   "source": [
    "train_sentences_ner = [item['tokens'] for item in dataset['train']]\n",
    "train_labels_ner = [[str(tag) for tag in item['tags']] for item in dataset['train']]\n",
    "\n",
    "val_sentences_ner = [item['tokens'] for item in dataset['validation']]\n",
    "val_labels_ner = [[str(tag) for tag in item['tags']] for item in dataset['validation']]\n",
    "\n",
    "test_sentences_ner = [item['tokens'] for item in dataset['test']]\n",
    "test_labels_ner = [[str(tag) for tag in item['tags']] for item in dataset['test']]"
   ]
  },
  {
   "cell_type": "code",
   "execution_count": 20,
   "id": "10bf358d",
   "metadata": {},
   "outputs": [
    {
     "name": "stdout",
     "output_type": "stream",
     "text": [
      "Number of training instances: 5228\n",
      "Number of validation instances: 5330\n",
      "Number of test instances: 5865\n",
      "Example training sentence (already tokenised): ['Naloxone', 'reverses', 'the', 'antihypertensive', 'effect', 'of', 'clonidine', '.']\n",
      "...corresponding tags for the same example: ['1', '0', '0', '0', '0', '0', '1', '0']\n"
     ]
    }
   ],
   "source": [
    "print(f'Number of training instances: {len(train_sentences_ner)}')\n",
    "print(f'Number of validation instances: {len(val_sentences_ner)}')\n",
    "print(f'Number of test instances: {len(test_sentences_ner)}')\n",
    "\n",
    "print(f'Example training sentence (already tokenised): {train_sentences_ner[0]}')\n",
    "print(f'...corresponding tags for the same example: {train_labels_ner[0]}')"
   ]
  },
  {
   "cell_type": "markdown",
   "id": "6b48f691",
   "metadata": {},
   "source": [
    "These are the tags used to annotate the entities:"
   ]
  },
  {
   "cell_type": "code",
   "execution_count": 21,
   "id": "b587c1f8",
   "metadata": {},
   "outputs": [
    {
     "name": "stdout",
     "output_type": "stream",
     "text": [
      "{0: 'O', 1: 'B-Chemical', 2: 'B-Disease', 3: 'I-Disease', 4: 'I-Chemical'}\n"
     ]
    }
   ],
   "source": [
    "id2label = {\n",
    "    \"O\": 0,\n",
    "    \"B-Chemical\": 1,\n",
    "    \"B-Disease\": 2,\n",
    "    \"I-Disease\": 3,\n",
    "    \"I-Chemical\": 4\n",
    "}\n",
    "\n",
    "label2id = {v:k for k, v in id2label.items()}\n",
    "print(label2id)"
   ]
  },
  {
   "cell_type": "markdown",
   "id": "6bf0674b",
   "metadata": {},
   "source": [
    "Put the NER data in the right format for NLTK's CRFTagger class:"
   ]
  },
  {
   "cell_type": "code",
   "execution_count": 22,
   "id": "7e342512",
   "metadata": {},
   "outputs": [],
   "source": [
    "def get_keys(d, value):\n",
    "    res = []\n",
    "    for val in value:\n",
    "        for k, v in d.items():\n",
    "            if v == val:\n",
    "                res.append(k)\n",
    "    return res"
   ]
  },
  {
   "cell_type": "code",
   "execution_count": 23,
   "id": "7f9c4061",
   "metadata": {},
   "outputs": [],
   "source": [
    "train_dataset = [list(zip(train_sentences_ner[i], get_keys(id2label, [int(tok) for tok in train_labels_ner[i]]))) for i in range(len(train_sentences_ner))][:-1]\n",
    "val_dataset = [list(zip(val_sentences_ner[i], get_keys(id2label, [int(tok) for tok in val_labels_ner[i]]))) for i in range(len(val_sentences_ner))][:-1]\n",
    "test_dataset = [list(zip(test_sentences_ner[i], get_keys(id2label, [int(tok) for tok in test_labels_ner[i]]))) for i in range(len(test_sentences_ner))][:-1]"
   ]
  },
  {
   "cell_type": "markdown",
   "id": "23dc782b",
   "metadata": {},
   "source": [
    "Train a CRF tagger on our training set. The method you need to use from NLTK is the [train method of the conditional random field (CRF)](https://www.nltk.org/_modules/nltk/tag/crf.html). You need to call the constructor with default arguments, then the train() function."
   ]
  },
  {
   "cell_type": "code",
   "execution_count": 24,
   "id": "c852df19",
   "metadata": {},
   "outputs": [],
   "source": [
    "import nltk\n",
    "\n",
    "# Train a CRF NER tagger\n",
    "def train_CRF_NER_tagger(train_set):\n",
    "    crf = nltk.tag.CRFTagger()\n",
    "    crf.train(train_set, 'model.crf.tagger')\n",
    "    return crf\n",
    "\n",
    "tagger = train_CRF_NER_tagger(train_dataset)"
   ]
  },
  {
   "cell_type": "markdown",
   "id": "5e30d452",
   "metadata": {},
   "source": [
    "Get some predictions from the tagger:"
   ]
  },
  {
   "cell_type": "code",
   "execution_count": 25,
   "id": "6a0fe32f",
   "metadata": {},
   "outputs": [],
   "source": [
    "predicted_tags_val = tagger.tag_sents(val_sentences_ner)"
   ]
  },
  {
   "cell_type": "markdown",
   "id": "b7e6a67b",
   "metadata": {},
   "source": [
    "Let's see how well the tagger is performing. In NER, we evaluate performance by finding correctly matched entities, rather than correctly tagged tokens. Only an exact entity match counts as correct. Therefore, we need to compute precision, recall and F1 score by computing true positives, false positives and false negatives by looking for the predicted entity spans and the gold-labelled entity spans in the test set.\n",
    "\n",
    "The code below contains a function that extract a list of spans from the tagged sentences. The next function calls extract_spans() and computes the precision, recall and f1 scores."
   ]
  },
  {
   "cell_type": "code",
   "execution_count": 26,
   "id": "c0b6ea27",
   "metadata": {},
   "outputs": [],
   "source": [
    "def extract_spans(tagged_sents):\n",
    "    \"\"\"\n",
    "    Extract a list of tagged spans for each named entity type, \n",
    "    where each span is represented by a tuple containing the \n",
    "    start token and end token indexes.\n",
    "    \n",
    "    returns: a dictionary containing a list of spans for each entity type.\n",
    "    \"\"\"\n",
    "    spans = {}\n",
    "        \n",
    "    for sidx, sent in enumerate(tagged_sents):\n",
    "        start = -1\n",
    "        entity_type = None\n",
    "        for i, (tok, lab) in enumerate(sent):\n",
    "            if 'B-' in lab:\n",
    "                start = i\n",
    "                end = i + 1\n",
    "                entity_type = lab[2:]\n",
    "            elif 'I-' in lab:\n",
    "                end = i + 1\n",
    "            elif lab == 'O' and start >= 0:\n",
    "                \n",
    "                if entity_type not in spans:\n",
    "                    spans[entity_type] = []\n",
    "                \n",
    "                spans[entity_type].append((start, end, sidx))\n",
    "                start = -1\n",
    "        # Sometimes an I-token is the last token in the sentence, so we still have to add the span to the list\n",
    "        if start >= 0:    \n",
    "            if entity_type not in spans:\n",
    "                spans[entity_type] = []\n",
    "                \n",
    "            spans[entity_type].append((start, end, sidx))    \n",
    "            \n",
    "    return spans"
   ]
  },
  {
   "cell_type": "code",
   "execution_count": 27,
   "id": "a0e8fb36",
   "metadata": {},
   "outputs": [],
   "source": [
    "def cal_span_level_f1(test_sents, test_sents_with_pred):\n",
    "    # get a list of spans from the test set labels\n",
    "    gold_spans = extract_spans(test_sents)\n",
    "\n",
    "    # get a list of spans predicted by our tagger\n",
    "    pred_spans = extract_spans(test_sents_with_pred)\n",
    "    \n",
    "    # compute the metrics for each class:\n",
    "    f1_per_class = []\n",
    "    \n",
    "    ne_types = gold_spans.keys()  # get the list of named entity types (not the tags)\n",
    "    \n",
    "    for ne_type in ne_types:\n",
    "        # compute the confusion matrix\n",
    "        true_pos = 0\n",
    "        false_pos = 0\n",
    "        \n",
    "        for span in pred_spans[ne_type]:\n",
    "            if span in gold_spans[ne_type]:\n",
    "                true_pos += 1\n",
    "            else:\n",
    "                false_pos += 1\n",
    "                \n",
    "        false_neg = 0\n",
    "        for span in gold_spans[ne_type]:\n",
    "            if span not in pred_spans[ne_type]:\n",
    "                false_neg += 1\n",
    "                \n",
    "        if true_pos + false_pos == 0:\n",
    "            precision = 0\n",
    "        else:\n",
    "            precision = true_pos / float(true_pos + false_pos)\n",
    "            \n",
    "        if true_pos + false_neg == 0:\n",
    "            recall = 0\n",
    "        else:\n",
    "            recall = true_pos / float(true_pos + false_neg)\n",
    "        \n",
    "        if precision + recall == 0:\n",
    "            f1 = 0\n",
    "        else:\n",
    "            f1 = 2 * precision * recall / (precision + recall)\n",
    "            \n",
    "        f1_per_class.append(f1)\n",
    "        print(f'F1 score for class {ne_type} = {f1}')\n",
    "        \n",
    "    print(f'Macro-average f1 score = {np.mean(f1_per_class)}')"
   ]
  },
  {
   "cell_type": "markdown",
   "id": "36eb48ca",
   "metadata": {},
   "source": [
    "Run the cal_span_level_F1() function below to compute span-level F1 scores for the predictions."
   ]
  },
  {
   "cell_type": "code",
   "execution_count": 28,
   "id": "1d143e88",
   "metadata": {},
   "outputs": [
    {
     "name": "stdout",
     "output_type": "stream",
     "text": [
      "F1 score for class Disease = 0.65403103969235\n",
      "F1 score for class Chemical = 0.8277834525025537\n",
      "Macro-average f1 score = 0.7409072460974518\n"
     ]
    }
   ],
   "source": [
    "cal_span_level_f1(val_dataset, predicted_tags_val)"
   ]
  },
  {
   "cell_type": "markdown",
   "id": "2e71ff0b",
   "metadata": {},
   "source": [
    "## Test the model on the testset"
   ]
  },
  {
   "cell_type": "code",
   "execution_count": 29,
   "id": "80ad00c0",
   "metadata": {},
   "outputs": [
    {
     "name": "stdout",
     "output_type": "stream",
     "text": [
      "F1 score for class Chemical = 0.815220700152207\n",
      "F1 score for class Disease = 0.649018833135783\n",
      "Macro-average f1 score = 0.732119766643995\n"
     ]
    }
   ],
   "source": [
    "predicted_tags = tagger.tag_sents(test_sentences_ner)\n",
    "cal_span_level_f1(test_dataset, predicted_tags)"
   ]
  },
  {
   "cell_type": "markdown",
   "id": "45040b06",
   "metadata": {},
   "source": [
    "We can try to help the CRF tagger by adding some more features. Part-of-speech tags often provide useful information for identifying entites. The code below defines a modified CRFTagger class that overwrites the `_get_features()` method, which extracts the features from the tokens."
   ]
  },
  {
   "cell_type": "code",
   "execution_count": 30,
   "id": "0a69b490",
   "metadata": {},
   "outputs": [],
   "source": [
    "import re, unicodedata\n",
    "\n",
    "class CustomCRFTagger(nltk.tag.CRFTagger):\n",
    "    _current_tokens = None\n",
    "    \n",
    "    def _get_features(self, tokens, idx):\n",
    "            \"\"\"\n",
    "            Extract basic features about this word including\n",
    "                - Current word\n",
    "                - is it capitalized?\n",
    "                - Does it have punctuation?\n",
    "                - Does it have a number?\n",
    "                - Suffixes up to length 3\n",
    "\n",
    "            Note that : we might include feature over previous word, next word etc.\n",
    "\n",
    "            :return: a list which contains the features\n",
    "            :rtype: list(str)\n",
    "            \"\"\"\n",
    "            token = tokens[idx]\n",
    "\n",
    "            feature_list = []\n",
    "\n",
    "            if not token:\n",
    "                return feature_list\n",
    "\n",
    "            # Capitalization\n",
    "            if token[0].isupper():\n",
    "                feature_list.append(\"CAPITALIZATION\")\n",
    "\n",
    "            # Number\n",
    "            if re.search(self._pattern, token) is not None:\n",
    "                feature_list.append(\"HAS_NUM\")\n",
    "\n",
    "            # Punctuation\n",
    "            punc_cat = {\"Pc\", \"Pd\", \"Ps\", \"Pe\", \"Pi\", \"Pf\", \"Po\"}\n",
    "            if all(unicodedata.category(x) in punc_cat for x in token):\n",
    "                feature_list.append(\"PUNCTUATION\")\n",
    "\n",
    "            # Suffix up to length 3\n",
    "            if len(token) > 1:\n",
    "                feature_list.append(\"SUF_\" + token[-1:])\n",
    "            if len(token) > 2:\n",
    "                feature_list.append(\"SUF_\" + token[-2:])\n",
    "            if len(token) > 3:\n",
    "                feature_list.append(\"SUF_\" + token[-3:])\n",
    "\n",
    "            # Current word\n",
    "            feature_list.append(\"WORD_\" + token)\n",
    "            \n",
    "            # Previous works\n",
    "            if idx != 0:\n",
    "                feature_list.append(\"PREV_\" + tokens[idx - 1])\n",
    "            # Next works\n",
    "            if idx != len(tokens) - 1:\n",
    "                feature_list.append(\"NEXT_\" + tokens[idx + 1])\n",
    "            ####\n",
    "\n",
    "            return feature_list"
   ]
  },
  {
   "cell_type": "markdown",
   "id": "4f78d5e2",
   "metadata": {},
   "source": [
    "Train your custom CRF tagger, then test it below."
   ]
  },
  {
   "cell_type": "code",
   "execution_count": 31,
   "id": "21985a81",
   "metadata": {},
   "outputs": [],
   "source": [
    "def train_CustomCRF_NER_tagger(train_set):\n",
    "    CCRF = CustomCRFTagger()\n",
    "    CCRF.train(train_set, 'model.crf.tagger')\n",
    "    return CCRF\n",
    "\n",
    "tagger = train_CustomCRF_NER_tagger(train_dataset)"
   ]
  },
  {
   "cell_type": "code",
   "execution_count": 32,
   "id": "77c71c25",
   "metadata": {},
   "outputs": [
    {
     "name": "stdout",
     "output_type": "stream",
     "text": [
      "F1 score for class Disease = 0.6868005932317649\n",
      "F1 score for class Chemical = 0.8361536123214104\n",
      "Macro-average f1 score = 0.7614771027765876\n"
     ]
    }
   ],
   "source": [
    "predicted_tags_val = tagger.tag_sents(val_sentences_ner)\n",
    "cal_span_level_f1(val_dataset, predicted_tags_val)"
   ]
  },
  {
   "cell_type": "code",
   "execution_count": 33,
   "id": "bc6a4864",
   "metadata": {},
   "outputs": [
    {
     "name": "stdout",
     "output_type": "stream",
     "text": [
      "F1 score for class Chemical = 0.8206273474774134\n",
      "F1 score for class Disease = 0.6917021551167892\n",
      "Macro-average f1 score = 0.7561647512971013\n"
     ]
    }
   ],
   "source": [
    "predicted_tags = tagger.tag_sents(test_sentences_ner)\n",
    "cal_span_level_f1(test_dataset, predicted_tags)"
   ]
  },
  {
   "cell_type": "markdown",
   "id": "bdf66467",
   "metadata": {},
   "source": [
    "POS tags can be used as features for tasks like NER. The code below defining another custom CRF tagger that also include POS tags as features."
   ]
  },
  {
   "cell_type": "code",
   "execution_count": 34,
   "id": "c86e7fa2",
   "metadata": {},
   "outputs": [],
   "source": [
    "class CRFTaggerWithPOS(CustomCRFTagger):\n",
    "    _current_tokens = None\n",
    "    \n",
    "    def _get_features(self, tokens, index):\n",
    "        \"\"\"\n",
    "        Extract the features for a token and append the POS tag as an additional feature.\n",
    "        \"\"\"\n",
    "        basic_features = super()._get_features(tokens, index)\n",
    "        \n",
    "        # Get the pos tags for the current sentence and save it\n",
    "        if tokens != self._current_tokens:\n",
    "            self._pos_tagged_tokens = nltk.pos_tag(tokens)\n",
    "            self._current_tokens = tokens\n",
    "            \n",
    "        basic_features.append(self._pos_tagged_tokens[index][1])\n",
    "        \n",
    "        return basic_features"
   ]
  },
  {
   "cell_type": "code",
   "execution_count": 35,
   "id": "b8779e2a",
   "metadata": {},
   "outputs": [],
   "source": [
    "def train_CRF_NER_tagger_with_POS(train_set):\n",
    "    tagger = CRFTaggerWithPOS()\n",
    "    tagger.train(train_set, 'model.crf.tagger')\n",
    "    return tagger\n",
    "\n",
    "tagger = train_CRF_NER_tagger_with_POS(train_dataset)"
   ]
  },
  {
   "cell_type": "code",
   "execution_count": 36,
   "id": "3f6a24b0",
   "metadata": {},
   "outputs": [
    {
     "name": "stdout",
     "output_type": "stream",
     "text": [
      "F1 score for class Disease = 0.6861451460885957\n",
      "F1 score for class Chemical = 0.8416180317971423\n",
      "Macro-average f1 score = 0.763881588942869\n"
     ]
    }
   ],
   "source": [
    "predicted_tags_val = tagger.tag_sents(val_sentences_ner)\n",
    "cal_span_level_f1(val_dataset, predicted_tags_val)"
   ]
  },
  {
   "cell_type": "code",
   "execution_count": 37,
   "id": "c85fdc24",
   "metadata": {},
   "outputs": [
    {
     "name": "stdout",
     "output_type": "stream",
     "text": [
      "F1 score for class Chemical = 0.8257102558936128\n",
      "F1 score for class Disease = 0.6874678993323061\n",
      "Macro-average f1 score = 0.7565890776129595\n"
     ]
    }
   ],
   "source": [
    "predicted_tags = tagger.tag_sents(test_sentences_ner)\n",
    "cal_span_level_f1(test_dataset, predicted_tags)"
   ]
  },
  {
   "cell_type": "code",
   "execution_count": null,
   "id": "250c6357",
   "metadata": {},
   "outputs": [],
   "source": []
  }
 ],
 "metadata": {
  "kernelspec": {
   "display_name": "data_analytics",
   "language": "python",
   "name": "data_analytics"
  },
  "language_info": {
   "codemirror_mode": {
    "name": "ipython",
    "version": 3
   },
   "file_extension": ".py",
   "mimetype": "text/x-python",
   "name": "python",
   "nbconvert_exporter": "python",
   "pygments_lexer": "ipython3",
   "version": "3.9.16"
  }
 },
 "nbformat": 4,
 "nbformat_minor": 5
}
